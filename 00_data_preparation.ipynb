{
 "cells": [
  {
   "cell_type": "code",
   "execution_count": 65,
   "id": "ea2ae281-170c-4f10-a24b-557e0200a44c",
   "metadata": {},
   "outputs": [],
   "source": [
    "import pandas as pd\n",
    "import numpy as np\n",
    "import requests\n",
    "import gc"
   ]
  },
  {
   "cell_type": "markdown",
   "id": "9109ad5f-ea7a-43ed-ba3d-0e4af79fb388",
   "metadata": {},
   "source": [
    "## Address\n",
    "- n_tx\n",
    "- tot_rec/sent\n",
    "- final_balance\n",
    "- txs [ hash, fee, size, inputs[index, value], out[value] ]\n",
    "\n",
    "values: _ , 8 cifre "
   ]
  },
  {
   "cell_type": "markdown",
   "id": "40bac026-e02d-4564-a585-fd1f4890f551",
   "metadata": {},
   "source": [
    "## Classes\n",
    "- exchange\n",
    "- dw_market\n",
    "- mixer\n",
    "- mining_pool\n",
    "- miner\n",
    "- services\n",
    "- gambling"
   ]
  },
  {
   "cell_type": "markdown",
   "id": "da2ffc26-45ac-45bf-99df-38c392d52a9d",
   "metadata": {},
   "source": [
    "## Features\n",
    "\n",
    "- n_transactions  \n",
    "- n_in_tx   \n",
    "- n_out_tx   \n",
    "- tx_ratio   \n",
    "- Max_in_tx_size  \n",
    "- min_in_tx_size  \n",
    "- avg_in_tx_size  \n",
    "- Max_out_tx_size  \n",
    "- min_out_tx_size  \n",
    "- avg_out_tx_size  \n",
    "- min_tx_interval  \n",
    "- Max_tx_interval  \n",
    "- avg_tx_interval  \n",
    "- std_dev_tx_interval   \n",
    "- tot_rec_btc  \n",
    "- tot_sent_btc   \n",
    "- actual_balance    \n",
    "- min_sent_btc   \n",
    "- Max_sent_btc   \n",
    "- avg_sent_btc   \n",
    "- std_dev_sent_btc  \n",
    "- min_rec_btc   \n",
    "- Max_rec_btc   \n",
    "- avg_rec_btc   \n",
    "- std_dev_rec_btc  \n",
    "- min_daily_tx  \n",
    "- Max_daily_tx  \n",
    "- avg_daily_tx  \n",
    "- std_dev_daily_tx  \n",
    "- Max_fee \n",
    "- min_fee  \n",
    "- avg_fee  \n",
    "- std_dev_fee \n",
    "- n_reused_address_in  \n",
    "- n_reused_address_out "
   ]
  },
  {
   "cell_type": "markdown",
   "id": "9f7c7111-4c85-4452-9bc4-a133e3044aea",
   "metadata": {},
   "source": [
    "# Service dataset Merge"
   ]
  },
  {
   "cell_type": "code",
   "execution_count": 2,
   "id": "f27e6f68-5d41-4f96-831b-90488462720d",
   "metadata": {},
   "outputs": [],
   "source": [
    "df = pd.read_csv('E:/Dataset/addresses-labels.csv') \n",
    "#HARVARD https://dataverse.harvard.edu/dataset.xhtml?persistentId=doi:10.7910/DVN/KEWU0N"
   ]
  },
  {
   "cell_type": "code",
   "execution_count": 68,
   "id": "6882d4ed-09f8-4e6b-b9c1-1522fa582bb5",
   "metadata": {},
   "outputs": [
    {
     "name": "stdout",
     "output_type": "stream",
     "text": [
      "<class 'pandas.core.frame.DataFrame'>\n",
      "RangeIndex: 17518402 entries, 0 to 17518401\n",
      "Data columns (total 2 columns):\n",
      " #   Column   Dtype \n",
      "---  ------   ----- \n",
      " 0   address  object\n",
      " 1   label    object\n",
      "dtypes: object(2)\n",
      "memory usage: 267.3+ MB\n"
     ]
    }
   ],
   "source": [
    "df.info()"
   ]
  },
  {
   "cell_type": "code",
   "execution_count": 4,
   "id": "749a1cee-6e9f-4dab-9cb4-b39acd1d642d",
   "metadata": {},
   "outputs": [],
   "source": [
    "df['label'] = df['label'].replace('coinjoin-like', 'mixer')"
   ]
  },
  {
   "cell_type": "code",
   "execution_count": 91,
   "id": "a2bf13b6-afa5-4ab2-aab6-341540b1da3d",
   "metadata": {},
   "outputs": [
    {
     "data": {
      "text/plain": [
       "label\n",
       "services       13510172\n",
       "exchange       10220546\n",
       "dw_market        347413\n",
       "mixer            225445\n",
       "mining_pool       78721\n",
       "miner              4030\n",
       "gambling            911\n",
       "Name: count, dtype: int64"
      ]
     },
     "execution_count": 91,
     "metadata": {},
     "output_type": "execute_result"
    }
   ],
   "source": [
    "df.value_counts('label')"
   ]
  },
  {
   "cell_type": "code",
   "execution_count": null,
   "id": "454855bb-c224-4c29-8c81-55f7e112ec80",
   "metadata": {},
   "outputs": [],
   "source": [
    "#Entity-address dataset for 2010-2018 Bitcoin transactions\n",
    "#https://github.com/Maru92/EntityAddressBitcoin?tab=readme-ov-file"
   ]
  },
  {
   "cell_type": "markdown",
   "id": "8e02a54b-d678-4045-8589-1e8b365d1bf4",
   "metadata": {
    "jp-MarkdownHeadingCollapsed": true
   },
   "source": [
    "## Mining"
   ]
  },
  {
   "cell_type": "code",
   "execution_count": 6,
   "id": "bdcf97e6-ab04-4b1b-82cb-7d6dd21ac7f1",
   "metadata": {},
   "outputs": [],
   "source": [
    "mining = pd.read_csv('E:/Dataset/data/Mining_full_detailed.csv')\n",
    "mining = mining.drop(mining[mining['hashAdd'] == 'Nonstandard'].index)\n",
    "dup = mining[mining['hashAdd'].isin(df['address'])]"
   ]
  },
  {
   "cell_type": "code",
   "execution_count": 12,
   "id": "32cf31a8-19a8-40cf-a69e-b58cb8b0f2c5",
   "metadata": {},
   "outputs": [
    {
     "name": "stdout",
     "output_type": "stream",
     "text": [
      "<class 'pandas.core.frame.DataFrame'>\n",
      "Index: 33 entries, 0 to 69697\n",
      "Data columns (total 5 columns):\n",
      " #   Column         Non-Null Count  Dtype \n",
      "---  ------         --------------  ----- \n",
      " 0   add_num        33 non-null     int64 \n",
      " 1   add_type       33 non-null     int64 \n",
      " 2   mining         33 non-null     object\n",
      " 3   date_first_tx  33 non-null     object\n",
      " 4   hashAdd        33 non-null     object\n",
      "dtypes: int64(2), object(3)\n",
      "memory usage: 1.5+ KB\n"
     ]
    }
   ],
   "source": [
    "dup.info()"
   ]
  },
  {
   "cell_type": "code",
   "execution_count": 13,
   "id": "733e5d78-7fe5-455b-8095-c91333ed9283",
   "metadata": {},
   "outputs": [],
   "source": [
    "mining = mining.drop(index = dup.index)"
   ]
  },
  {
   "cell_type": "code",
   "execution_count": 14,
   "id": "f953a997-51f0-4f28-8c0d-9ca234db74f0",
   "metadata": {},
   "outputs": [],
   "source": [
    "mining = mining.drop(columns = ['add_num', 'add_type', 'mining', 'date_first_tx'])\n",
    "mining['label'] = 'mining_pool'\n",
    "mining = mining.rename(columns = {'hashAdd': 'address'})"
   ]
  },
  {
   "cell_type": "code",
   "execution_count": 16,
   "id": "1a6084b2-04a4-4e87-8d9d-d35401be7019",
   "metadata": {},
   "outputs": [],
   "source": [
    "df = pd.concat([df,mining], ignore_index = True)"
   ]
  },
  {
   "cell_type": "code",
   "execution_count": 63,
   "id": "b18eadca-e1bf-417b-b174-88acecf98661",
   "metadata": {},
   "outputs": [],
   "source": [
    "del mining\n",
    "gc.collect()"
   ]
  },
  {
   "cell_type": "markdown",
   "id": "935fe4f7-43b3-459d-8690-66499be445ec",
   "metadata": {
    "jp-MarkdownHeadingCollapsed": true
   },
   "source": [
    "## Service"
   ]
  },
  {
   "cell_type": "code",
   "execution_count": 18,
   "id": "ce86cfbc-2050-42e0-b264-1379f49b275a",
   "metadata": {},
   "outputs": [],
   "source": [
    "service = pd.read_csv('E:/Dataset/data/Services_full_detailed.csv')\n",
    "exchange = exchange.rename(columns = {'hashAdd': 'address'})"
   ]
  },
  {
   "cell_type": "code",
   "execution_count": 56,
   "id": "4b69dbd6-d5f4-41fe-8938-7677dcafbfa1",
   "metadata": {},
   "outputs": [],
   "source": [
    "service = service.drop(service[service['service'] == 'StrongCoin.com-fee'].index)"
   ]
  },
  {
   "cell_type": "code",
   "execution_count": 19,
   "id": "92e1695c-83c2-4a5c-9d05-3a0a9442adb2",
   "metadata": {},
   "outputs": [
    {
     "name": "stdout",
     "output_type": "stream",
     "text": [
      "<class 'pandas.core.frame.DataFrame'>\n",
      "RangeIndex: 17441077 entries, 0 to 17441076\n",
      "Data columns (total 5 columns):\n",
      " #   Column         Dtype \n",
      "---  ------         ----- \n",
      " 0   add_num        int64 \n",
      " 1   add_type       int64 \n",
      " 2   service        object\n",
      " 3   date_first_tx  object\n",
      " 4   hashAdd        object\n",
      "dtypes: int64(2), object(3)\n",
      "memory usage: 665.3+ MB\n"
     ]
    }
   ],
   "source": [
    "service.info()"
   ]
  },
  {
   "cell_type": "code",
   "execution_count": 57,
   "id": "9452590b-ea22-4b4a-a068-cfde4f054133",
   "metadata": {
    "scrolled": true
   },
   "outputs": [
    {
     "data": {
      "text/plain": [
       "service\n",
       "ePay.info           12469529\n",
       "CoinPayments.net      487768\n",
       "BitPay.com            186000\n",
       "CoinKite.com          115775\n",
       "HaoBTC.com             33331\n",
       "Purse.io               32823\n",
       "OkLink.com             30183\n",
       "BTCJam.com             27343\n",
       "Loanbase.com           22597\n",
       "FaucetBOX.com          21693\n",
       "MoonBit.co.in          19437\n",
       "ChangeTip.com          15905\n",
       "CoinApult.com          15495\n",
       "CryptoStocks.com       12486\n",
       "Bitbond.com             6206\n",
       "BTCPop.co               3485\n",
       "CoinURL.com             2978\n",
       "BitClix.com             2023\n",
       "BTCLend.org             1713\n",
       "Bylls.com               1314\n",
       "WatchMyBit.com           614\n",
       "Vic-Socks.to             125\n",
       "SecureVPN.to              35\n",
       "CoinWorker.com             2\n",
       "Name: count, dtype: int64"
      ]
     },
     "execution_count": 57,
     "metadata": {},
     "output_type": "execute_result"
    }
   ],
   "source": [
    "service.value_counts('service')"
   ]
  },
  {
   "cell_type": "raw",
   "id": "329761dc-58ac-4d57-b0e0-c0927ca4467d",
   "metadata": {},
   "source": [
    "1. Exchange/Wallet/Trading (Servizi che permettono di acquistare, vendere e conservare criptovalute):   EXCHANGE\n",
    "\n",
    "    Xapo.com: Wallet e carta di debito Bitcoin.\n",
    "    Cryptonator.com: Wallet multi-valuta con conversione istantanea.\n",
    "    BitoEX.com: Exchange e wallet di Bitcoin.\n",
    "    BitcoinWallet.com: Wallet per Bitcoin.\n",
    "    HolyTransaction.com: Wallet multi-criptovaluta.\n",
    "    Paymium.com: Exchange e wallet per Bitcoin.\n",
    "    CoinJar.com: Wallet e exchange, con opzioni di pagamento.\n",
    "    CoinBox.me: Wallet online per criptovalute.\n",
    "    StrongCoin.com: Wallet con opzione di backup crittografato.\n",
    "    Cubits.com: Exchange e servizi di pagamento per Bitcoin.\n",
    "    Cryptopay.me: Exchange, wallet e carte di pagamento.\n",
    "    BitNZ.com: Exchange specifico per la Nuova Zelanda.\n",
    "    GoCelery.com: Exchange che consente di acquistare criptovalute con valuta fiat.\n",
    "\n",
    "\n",
    "2. Pagamenti e Gateway (Servizi per accettare o effettuare pagamenti in Bitcoin):    SERVICE\n",
    "\n",
    "    BitPay.com: Gateway di pagamento per commercianti.\n",
    "    CoinPayments.net: Gateway di pagamento per più criptovalute.\n",
    "    Purse.io: Permette di acquistare su Amazon con Bitcoin.\n",
    "    ChangeTip.com: Servizio per inviare mance tramite social media.\n",
    "    Bylls.com: Permette il pagamento di bollette in Bitcoin.\n",
    "    OkLink.com: Permette pagamenti trasparenti cross-border.\n",
    "    HaoBTC: Vari Servizi tra cui mining pool, prodotti e wallet.\n",
    "    CoinKite.com: Offriva wallet e varie soluzioni di pagamento.\n",
    "\n",
    "3. Mercati del Dark Web (Marketplace anonimi spesso associati a beni e servizi illegali):  DW_MARKET  (NUOVA)\n",
    "\n",
    "    AlphaBayMarket: Dark web marketplace (chiuso).\n",
    "    NucleusMarket: Marketplace nel dark web.\n",
    "    GermanPlazaMarket: Un altro dark web marketplace.\n",
    "    DoctorDMarket: Marketplace oscuro specializzato in farmaci.\n",
    "    GreenRoadMarket: Altro marketplace del dark web.\n",
    "\n",
    "4. Mixer e Anonimizzazione (Servizi per rendere anonime le transazioni Bitcoin):   MIXER\n",
    "\n",
    "    BitcoinFog: Mixer per rendere anonime le transazioni.\n",
    "    HelixMixer: Servizio di anonimizzazione per Bitcoin.\n",
    "    BitLaunder.com: Mixer per Bitcoin.\n",
    "\n",
    "6. Prestiti e Investimenti (Piattaforme per prestiti o investimenti con criptovalute):  SERVICE\n",
    "\n",
    "    BTCJam.com: Piattaforma di prestiti peer-to-peer con Bitcoin.\n",
    "    Loanbase.com: Prestiti garantiti da criptovalute.\n",
    "    Bitbond.com: Prestiti internazionali tramite Bitcoin.\n",
    "    BTCPop.co: Prestiti e investimenti in Bitcoin.\n",
    "    BTCLend.org: Piattaforma per prestiti in Bitcoin.\n",
    "\n",
    "7. Mining e Cloud Mining (Servizi per estrazione di criptovalute):     MINING_POOL\n",
    "\n",
    "    Genesis-Mining.com: Piattaforma di cloud mining.\n",
    "\n",
    "8. Servizi per Siti Web e Pubblicità (Servizi legati a pubblicità o interazioni web):   SERVICE\n",
    " \n",
    "    CoinURL.com: Sistema di pubblicità per link pagati in Bitcoin.\n",
    "    BitClix.com: Piattaforma pubblicitaria basata su Bitcoin.\n",
    "\n",
    "9. Faucet e Micropagamenti (Servizi che distribuiscono piccole quantità di Bitcoin gratuitamente):   SERVICE\n",
    "\n",
    "    ePay.info: Servizio di raccolta e distribuzione ricompense di faucets.\n",
    "    MoonBit.co.in: Faucet per ottenere Bitcoin gratuitamente.\n",
    "    FaucetBOX.com: Piattaforma per gestire pagamenti di faucet.\n",
    "    WatchMyBit.com: Pagamenti per visualizzazione di video in Bitcoin.\n",
    "\n",
    "10. Altri Servizi:     SERVICE\n",
    "\n",
    "    CoinWorker.com: Guadagna Bitcoin completando micro-task.\n",
    "    CoinApult.com: Servizio di invio di Bitcoin tramite SMS o email.\n",
    "    CryptoStocks.com: Piattaforma per la compravendita di azioni legate al mondo crypto.\n",
    "    Vic-Socks.to: Vendita di SOCKS5 proxy anonimi.\n",
    "    SecureVPN.to: Servizio VPN anonimo pagabile in Bitcoin.\n",
    "    Bylls.com: Pagamento bollette in Bitcoin.\n",
    "    BitNZ.com: Exchange di criptovalute neozelandese.       "
   ]
  },
  {
   "cell_type": "code",
   "execution_count": 22,
   "id": "1089700a-9707-4429-8c3b-1493b115c078",
   "metadata": {},
   "outputs": [],
   "source": [
    "dup = service[service['address'].isin(df['address'])]"
   ]
  },
  {
   "cell_type": "code",
   "execution_count": 23,
   "id": "b542fe9d-63c7-435f-b97a-17423e95a0e9",
   "metadata": {},
   "outputs": [],
   "source": [
    "service = service.drop(index = dup.index)"
   ]
  },
  {
   "cell_type": "markdown",
   "id": "05c3044f-9078-4413-a40c-86254e407fd4",
   "metadata": {
    "jp-MarkdownHeadingCollapsed": true
   },
   "source": [
    "### Split Services"
   ]
  },
  {
   "cell_type": "markdown",
   "id": "4dfa2db1-ee0e-4bed-8ce9-29830ea54665",
   "metadata": {},
   "source": [
    "Mixers"
   ]
  },
  {
   "cell_type": "code",
   "execution_count": 24,
   "id": "e224e13b-0999-4693-ad23-6b964416b68d",
   "metadata": {},
   "outputs": [],
   "source": [
    "mixer = service[(service['service'] == 'HelixMixer') | \n",
    "                (service['service'] == 'BitcoinFog') |\n",
    "                (service['service'] == 'BitLaunder.com')]\n",
    "\n",
    "service = service.drop(index = mixer.index)"
   ]
  },
  {
   "cell_type": "code",
   "execution_count": 25,
   "id": "2b41742d-d15f-4e19-b953-a068d188e882",
   "metadata": {},
   "outputs": [],
   "source": [
    "mixer = mixer.drop(columns = ['add_num', 'add_type', 'service', 'date_first_tx'])\n",
    "mixer['label'] = 'mixer'"
   ]
  },
  {
   "cell_type": "code",
   "execution_count": 26,
   "id": "59e85bea-bfc1-410a-b432-8e482a453f7c",
   "metadata": {},
   "outputs": [],
   "source": [
    "df = pd.concat([df, mixer], ignore_index=True)\n",
    "del mixer"
   ]
  },
  {
   "cell_type": "markdown",
   "id": "58a43924-5c59-48eb-af47-ad882412e94e",
   "metadata": {},
   "source": [
    "Exchanges"
   ]
  },
  {
   "cell_type": "code",
   "execution_count": 30,
   "id": "6dd276e1-99c4-4246-92a8-b102b25e2e65",
   "metadata": {},
   "outputs": [],
   "source": [
    "exchange = service[(service['service'] == 'Xapo.com') |\n",
    "                   (service['service'] == 'Cryptonator.com') |\n",
    "                   (service['service'] == 'BitoEX.com') |\n",
    "                   (service['service'] == 'BitcoinWallet.com') |\n",
    "                   (service['service'] == 'HolyTransaction.com') |\n",
    "                   (service['service'] == 'Paymium.com') |\n",
    "                   (service['service'] == 'CoinJar.com') |\n",
    "                   (service['service'] == 'CoinBox.me') |\n",
    "                   (service['service'] == 'StrongCoin.com') |\n",
    "                   (service['service'] == 'Cubits.com') |\n",
    "                   (service['service'] == 'Cryptopay.me') |\n",
    "                   (service['service'] == 'BitNZ.com') |\n",
    "                   (service['service'] == 'GoCelery.com')]\n",
    "\n",
    "service = service.drop(index = exchange.index)"
   ]
  },
  {
   "cell_type": "code",
   "execution_count": 32,
   "id": "c8a57359-ab82-40fc-b1e3-4803d4eb82fd",
   "metadata": {},
   "outputs": [],
   "source": [
    "exchange = exchange.drop(columns = ['add_num', 'add_type', 'service', 'date_first_tx'])\n",
    "exchange['label'] = 'exchange'"
   ]
  },
  {
   "cell_type": "code",
   "execution_count": 36,
   "id": "55855365-f4c1-4409-bb30-7befdcb92ca4",
   "metadata": {},
   "outputs": [],
   "source": [
    "df = pd.concat([df, exchange], ignore_index=True)\n",
    "del exchange"
   ]
  },
  {
   "cell_type": "markdown",
   "id": "d23067a6-ad66-4027-aa41-285788287695",
   "metadata": {},
   "source": [
    "Dark Web markets"
   ]
  },
  {
   "cell_type": "code",
   "execution_count": 38,
   "id": "bef18599-6ff6-4d5b-aebf-462652371827",
   "metadata": {},
   "outputs": [],
   "source": [
    "dw_market = service[(service['service'] == 'AlphaBayMarket') | \n",
    "                    (service['service'] == 'NucleusMarket') |\n",
    "                    (service['service'] == 'GermanPlazaMarket') | \n",
    "                    (service['service'] == 'DoctorDMarket') |\n",
    "                    (service['service'] == 'GreenRoadMarket')]\n",
    "\n",
    "service = service.drop(index = dw_market.index)"
   ]
  },
  {
   "cell_type": "code",
   "execution_count": 42,
   "id": "e882ee70-1b94-441b-ada2-14952d7f6548",
   "metadata": {},
   "outputs": [],
   "source": [
    "dw_market = dw_market.drop(columns = ['add_num', 'add_type', 'service', 'date_first_tx'])\n",
    "dw_market['label'] = 'dw_market'"
   ]
  },
  {
   "cell_type": "code",
   "execution_count": 44,
   "id": "491cd1c9-15df-4db4-9487-e04eb5e28244",
   "metadata": {},
   "outputs": [],
   "source": [
    "df = pd.concat([df, dw_market], ignore_index=True)\n",
    "del dw_market"
   ]
  },
  {
   "cell_type": "markdown",
   "id": "29ec8d19-792e-4b02-81b3-655f252b472c",
   "metadata": {},
   "source": [
    "Mining Pool"
   ]
  },
  {
   "cell_type": "code",
   "execution_count": 51,
   "id": "09242291-34cc-4c7b-a3df-bf7ad28e7818",
   "metadata": {},
   "outputs": [],
   "source": [
    "mining = service[(service['service'] == 'Genesis-Mining.com')]\n",
    "\n",
    "service = service.drop(index = mining.index)"
   ]
  },
  {
   "cell_type": "code",
   "execution_count": 52,
   "id": "7ef774ba-dfb1-4be1-909a-8bf2030fec84",
   "metadata": {},
   "outputs": [],
   "source": [
    "mining = mining.drop(columns = ['add_num', 'add_type', 'service', 'date_first_tx'])\n",
    "mining['label'] = 'mining_pool'"
   ]
  },
  {
   "cell_type": "code",
   "execution_count": 53,
   "id": "6cf0adcd-e1e3-4df4-8756-4f34fd6baff9",
   "metadata": {},
   "outputs": [],
   "source": [
    "df = pd.concat([df, mining], ignore_index=True)\n",
    "del mining"
   ]
  },
  {
   "cell_type": "markdown",
   "id": "c8398cd6-b400-44ff-bfe9-969a79ba949d",
   "metadata": {},
   "source": [
    "Generic services"
   ]
  },
  {
   "cell_type": "code",
   "execution_count": 58,
   "id": "b9e537c7-40f1-43fe-8a8e-8659428e9b83",
   "metadata": {},
   "outputs": [],
   "source": [
    "service = service.drop(columns = ['add_num', 'add_type', 'service', 'date_first_tx'])\n",
    "service['label'] = 'services'"
   ]
  },
  {
   "cell_type": "code",
   "execution_count": 60,
   "id": "fc87c347-f9ea-42dd-89d2-70e421177de7",
   "metadata": {},
   "outputs": [],
   "source": [
    "df = pd.concat([df, service], ignore_index=True)"
   ]
  },
  {
   "cell_type": "code",
   "execution_count": 67,
   "id": "3dcf2a07-4aae-4ae5-b9a8-9899c66f6a80",
   "metadata": {},
   "outputs": [
    {
     "data": {
      "text/plain": [
       "0"
      ]
     },
     "execution_count": 67,
     "metadata": {},
     "output_type": "execute_result"
    }
   ],
   "source": [
    "del service\n",
    "gc.collect()"
   ]
  },
  {
   "cell_type": "markdown",
   "id": "dc2a28ef-c9a2-47ae-9dec-4708fe7d84c3",
   "metadata": {
    "jp-MarkdownHeadingCollapsed": true
   },
   "source": [
    "## Exchanges"
   ]
  },
  {
   "cell_type": "code",
   "execution_count": 74,
   "id": "d156fdc7-0cc5-4244-a539-a9cdb5e72127",
   "metadata": {},
   "outputs": [],
   "source": [
    "exchange = pd.read_csv('E:/Dataset/data/Exchanges_full_detailed.csv')\n",
    "exchange = exchange.drop_duplicates()\n",
    "exchange = exchange.rename(columns = {'hashAdd': 'address'})"
   ]
  },
  {
   "cell_type": "code",
   "execution_count": 79,
   "id": "4223239b-3d8d-4f05-bf8b-591263a0fca7",
   "metadata": {
    "scrolled": true
   },
   "outputs": [
    {
     "name": "stdout",
     "output_type": "stream",
     "text": [
      "exchange\n",
      "Bittrex.com              1444927\n",
      "Poloniex.com              967604\n",
      "CoinTrader.net            770486\n",
      "LocalBitcoins.com         522287\n",
      "Bitstamp.net              350556\n",
      "Huobi.com                 332057\n",
      "Luno.com                  309955\n",
      "BTC-e.com                 307792\n",
      "YoBit.net                 263108\n",
      "Cex.io                    238502\n",
      "Bitcoin.de                194140\n",
      "HitBtc.com                187598\n",
      "OKCoin.com                152423\n",
      "Cryptsy.com               134559\n",
      "AnxPro.com                133273\n",
      "Kraken.com                114489\n",
      "Bleutrade.com              87091\n",
      "Hashnest.com               84857\n",
      "BtcTrade.com               83539\n",
      "Bter.com                   79719\n",
      "BTCC.com                   64803\n",
      "MercadoBitcoin.com.br      64328\n",
      "MaiCoin.com                57759\n",
      "VirWoX.com                 55251\n",
      "Paxful.com                 55171\n",
      "Cavirtex.com               53102\n",
      "BX.in.th                   49005\n",
      "Matbea.com                 47357\n",
      "CoinSpot.com.au            45890\n",
      "C-Cex.com                  35433\n",
      "Vircurex.com               33393\n",
      "BitBay.net                 31042\n",
      "BitBargain.co.uk           30761\n",
      "Bit-x.com                  23754\n",
      "BlockTrades.us             22618\n",
      "TheRockTrading.com         19653\n",
      "FYBSG.com                  18197\n",
      "CoinMotion.com             16328\n",
      "BtcMarkets.net             15260\n",
      "Vaultoro.com               11277\n",
      "Coins-e.com                11221\n",
      "Igot.com                   11220\n",
      "CoinHako.com               10701\n",
      "Exmo.com                    8432\n",
      "796.com                     7848\n",
      "Btc38.com                   7585\n",
      "LiteBit.eu                  7109\n",
      "Coinomat.com                5481\n",
      "HappyCoins.com              5422\n",
      "Coinmate.io                 5313\n",
      "BitVC.com                   5024\n",
      "LakeBTC.com                 4778\n",
      "QuadrigaCX.com              4516\n",
      "OrderBook.net               4377\n",
      "Bitcurex.com                4354\n",
      "BitKonan.com                4298\n",
      "CoinCafe.com                4295\n",
      "MeXBT.com                   4227\n",
      "Bitfinex.com                3999\n",
      "SpectroCoin.com             3990\n",
      "Korbit.co.kr                3543\n",
      "ChBtc.com                   2756\n",
      "CoinArch.com                2713\n",
      "CleverCoin.com              2614\n",
      "BitcoinVietnam.com.vn       2276\n",
      "Indacoin.com                2221\n",
      "CampBX.com                  1802\n",
      "Gatecoin.com                1714\n",
      "CoinChimp.com               1704\n",
      "Bitso.com                   1188\n",
      "Cryptonit.net               1095\n",
      "Ccedk.com                   1040\n",
      "1Coin.com                    876\n",
      "EmpoEX.com                   741\n",
      "UseCryptos.com               700\n",
      "Coingi.com                   684\n",
      "Coinbroker.io                669\n",
      "Banx.io                      593\n",
      "ExchangeMyCoins.com          436\n",
      "FoxBit.com.br                386\n",
      "Zyado.com                    338\n",
      "SimpleCoin.cz                 12\n",
      "BTradeAustralia.com           12\n",
      "Exchanging.ir                  5\n",
      "Exchange-Credit.ru             1\n",
      "Coinimal.com                   1\n",
      "Name: count, dtype: int64\n"
     ]
    }
   ],
   "source": [
    "with pd.option_context('display.max_rows', None, 'display.max_columns', None,'display.max_colwidth', 1000):\n",
    "    print(exchange.value_counts('exchange'))"
   ]
  },
  {
   "cell_type": "raw",
   "id": "863edd43-544a-498f-81ed-e123ee90618d",
   "metadata": {},
   "source": [
    "Exchange (Scambi di criptovalute)\n",
    "\n",
    "Questi sono piattaforme principalmente utilizzate per il trading o l'acquisto/vendita di criptovalute:\n",
    "\n",
    "    Bittrex.com\n",
    "    Poloniex.com\n",
    "    CoinTrader.net\n",
    "    Bitstamp.net\n",
    "    Huobi.com\n",
    "    BTC-e.com\n",
    "    YoBit.net\n",
    "    Cex.io\n",
    "    Bitcoin.de\n",
    "    HitBtc.com\n",
    "    OKCoin.com\n",
    "    Cryptsy.com\n",
    "    AnxPro.com\n",
    "    Kraken.com\n",
    "    Bleutrade.com\n",
    "    BtcTrade.com\n",
    "    Bter.com\n",
    "    BTCC.com\n",
    "    MercadoBitcoin.com.br\n",
    "    MaiCoin.com\n",
    "    VirWoX.com\n",
    "    BX.in.th\n",
    "    Matbea.com\n",
    "    CoinSpot.com.au\n",
    "    C-Cex.com\n",
    "    Vircurex.com\n",
    "    BitBay.net\n",
    "    BitBargain.co.uk\n",
    "    Bit-x.com\n",
    "    TheRockTrading.com\n",
    "    FYBSG.com\n",
    "    CoinMotion.com\n",
    "    BtcMarkets.net\n",
    "    Vaultoro.com\n",
    "    Coins-e.com\n",
    "    Igot.com\n",
    "    CoinHako.com\n",
    "    Exmo.com\n",
    "    796.com\n",
    "    LiteBit.eu\n",
    "    LakeBTC.com\n",
    "    QuadrigaCX.com\n",
    "    OrderBook.net\n",
    "    Bitcurex.com\n",
    "    MeXBT.com\n",
    "    Bitfinex.com\n",
    "    SpectroCoin.com\n",
    "    Korbit.co.kr\n",
    "    ChBtc.com\n",
    "    CampBX.com\n",
    "    Gatecoin.com\n",
    "    Bitso.com\n",
    "    Cryptonit.net\n",
    "    Ccedk.com\n",
    "    Coingi.com\n",
    "    Banx.io\n",
    "\n",
    "Servizi Generici (forniscono funzionalità diverse da quelle degli exchange):\n",
    "\n",
    "    LocalBitcoins.com (Marketplace P2P per lo scambio di criptovalute tra utenti)\n",
    "    Hashnest.com (Servizio di mining)\n",
    "    SimpleCoin.cz (Servizio per mining e microtransazioni)\n",
    "    FoxBit.com.br (Piattaforma di pagamento e trading, ma principalmente servizio P2P)\n",
    "    ExchangeMyCoins.com (Scambio diretto, non un exchange tradizionale)\n",
    "    CoinArch.com (Soluzioni di pagamento con criptovalute)\n",
    "    Coinomat.com (Trasferimento rapido tra diverse criptovalute)\n",
    "    HappyCoins.com (Servizio di pagamento e wallet)\n",
    "    CleverCoin.com (In passato exchange, ora servizio di pagamento)\n",
    "    BitcoinVietnam.com.vn (Servizio per l'adozione di Bitcoin in Vietnam, non esclusivamente un exchange)\n",
    "    Indacoin.com (Acquisto rapido di Bitcoin con carta di credito, non un exchange completo)\n",
    "    UseCryptos.com (Soluzione per pagamenti con criptovalute)\n",
    "    Coinimal.com (Acquisto/vendita di criptovalute semplificato, non un exchange completo)\n",
    "    Coinbroker.io (Piattaforma per scambi privati, non un exchange pubblico)\n",
    "    BTradeAustralia.com (Marketplace con funzionalità avanzate)\n",
    "    Exchanging.ir (Servizio di scambio di valute regionali con criptovalute)\n",
    "    Exchange-Credit.ru (Servizi di credito in criptovalute)\n",
    "    Zyado.com (Marketplace e microtransazioni)"
   ]
  },
  {
   "cell_type": "code",
   "execution_count": 79,
   "id": "1eea0e9b-325f-4839-a1f5-4b09cc7bad3c",
   "metadata": {},
   "outputs": [
    {
     "name": "stdout",
     "output_type": "stream",
     "text": [
      "<class 'pandas.core.frame.DataFrame'>\n",
      "Index: 956 entries, 20 to 7648422\n",
      "Data columns (total 6 columns):\n",
      " #   Column         Non-Null Count  Dtype  \n",
      "---  ------         --------------  -----  \n",
      " 0   add_num        956 non-null    int64  \n",
      " 1   add_type       956 non-null    float64\n",
      " 2   country        956 non-null    object \n",
      " 3   date_first_tx  956 non-null    object \n",
      " 4   exchange       956 non-null    object \n",
      " 5   address        956 non-null    object \n",
      "dtypes: float64(1), int64(1), object(4)\n",
      "memory usage: 52.3+ KB\n"
     ]
    }
   ],
   "source": [
    "dup = exchange[exchange['address'].isin(df['address'])]\n",
    "dup.info()"
   ]
  },
  {
   "cell_type": "code",
   "execution_count": 80,
   "id": "32fc489b-6d14-4615-b9ac-069202f792e7",
   "metadata": {},
   "outputs": [],
   "source": [
    "exchange = exchange.drop(index = dup.index)"
   ]
  },
  {
   "cell_type": "code",
   "execution_count": 84,
   "id": "69911fb9-ff39-4d37-aa1e-40c3179ec7dc",
   "metadata": {},
   "outputs": [],
   "source": [
    "exchange = exchange.drop(exchange[(exchange['exchange'] == 'LocalBitcoins.com') | \n",
    "                                  (exchange['exchange'] == 'Hashnest.com') |\n",
    "                                  (exchange['exchange'] == 'SimpleCoin.cz') |\n",
    "                                  (exchange['exchange'] == 'FoxBit.com.br') |\n",
    "                                  (exchange['exchange'] == 'ExchangeMyCoins.com') |\n",
    "                                  (exchange['exchange'] == 'CoinArch.com') |\n",
    "                                  (exchange['exchange'] == 'Coinomat.com') |\n",
    "                                  (exchange['exchange'] == 'HappyCoins.com') |\n",
    "                                  (exchange['exchange'] == 'CleverCoin.com') |\n",
    "                                  (exchange['exchange'] == 'BitcoinVietnam.com.vn') |\n",
    "                                  (exchange['exchange'] == 'Indacoin.com') |\n",
    "                                  (exchange['exchange'] == 'UseCryptos.com') |\n",
    "                                  (exchange['exchange'] == 'Coinimal.com') |\n",
    "                                  (exchange['exchange'] == 'Coinbroker.io') |\n",
    "                                  (exchange['exchange'] == 'BTradeAustralia.com') |\n",
    "                                  (exchange['exchange'] == 'Exchanging.ir') |\n",
    "                                  (exchange['exchange'] == 'Exchange-Credit.ru') |\n",
    "                                  (exchange['exchange'] == 'Zyado.com')].index)\n"
   ]
  },
  {
   "cell_type": "code",
   "execution_count": 86,
   "id": "54701577-f5cd-412e-92e4-d09b0eddc174",
   "metadata": {},
   "outputs": [],
   "source": [
    "exchange = exchange.drop(columns = ['add_num', 'add_type', 'country', 'exchange', 'date_first_tx'])\n",
    "exchange['label'] = 'exchange'"
   ]
  },
  {
   "cell_type": "code",
   "execution_count": 90,
   "id": "db71a046-9289-4f1e-afba-c70345121fc4",
   "metadata": {},
   "outputs": [],
   "source": [
    "df = pd.concat([df,exchange], ignore_index = True)\n",
    "del exchange"
   ]
  },
  {
   "cell_type": "markdown",
   "id": "8d9e41dc-a88e-428b-8a1a-57e84e85d85f",
   "metadata": {
    "jp-MarkdownHeadingCollapsed": true
   },
   "source": [
    "## Gambling"
   ]
  },
  {
   "cell_type": "code",
   "execution_count": 92,
   "id": "4abb0266-3950-4b6e-ab86-d7e001cd0564",
   "metadata": {},
   "outputs": [
    {
     "name": "stdout",
     "output_type": "stream",
     "text": [
      "<class 'pandas.core.frame.DataFrame'>\n",
      "RangeIndex: 2665548 entries, 0 to 2665547\n",
      "Data columns (total 5 columns):\n",
      " #   Column         Dtype \n",
      "---  ------         ----- \n",
      " 0   add_num        int64 \n",
      " 1   add_type       int64 \n",
      " 2   gambling       object\n",
      " 3   date_first_tx  object\n",
      " 4   hashAdd        object\n",
      "dtypes: int64(2), object(3)\n",
      "memory usage: 101.7+ MB\n"
     ]
    }
   ],
   "source": [
    "gambling = pd.read_csv('E:/Dataset/data/Gambling_full_detailed.csv')\n",
    "gambling = gambling.rename(columns = {'hashAdd': 'address'})\n",
    "gambling.info()"
   ]
  },
  {
   "cell_type": "code",
   "execution_count": 93,
   "id": "61805f08-708b-4f87-968e-43b9737232f3",
   "metadata": {
    "scrolled": true
   },
   "outputs": [
    {
     "data": {
      "text/plain": [
       "gambling\n",
       "CoinGaming.io               656699\n",
       "999Dice.com                 651547\n",
       "SatoshiMines.com            254601\n",
       "NitrogenSports.eu           197155\n",
       "PocketDice.io               125004\n",
       "FortuneJack.com             120491\n",
       "SecondsTrade.com             96890\n",
       "BitZino.com                  78849\n",
       "Rollin.io                    74602\n",
       "CloudBet.com                 67795\n",
       "PrimeDice.com                54640\n",
       "SatoshiDice.com              41150\n",
       "SatoshiBet.com               32701\n",
       "SafeDice.com                 28567\n",
       "SwCPoker.eu                  27693\n",
       "Betcoin.ag                   25960\n",
       "Coinroll.com                 22304\n",
       "Crypto-Games.net             18489\n",
       "AnoniBet.com                 15965\n",
       "SatoshiRoulette.com          10900\n",
       "BTCOracle.com                 9122\n",
       "BitcoinVideoCasino.com        8032\n",
       "Peerbet.org                   7766\n",
       "777Coin.com                   5966\n",
       "SatoshiCircle.com             4875\n",
       "Coinichiwa.com                4338\n",
       "Betcoin.tm                    4277\n",
       "JetWin.com                    3840\n",
       "BitZillions.com               3607\n",
       "BetMoose.com                  2640\n",
       "YABTCL.com                    2181\n",
       "BetChain.com-old              1508\n",
       "BitStarz.com                  1076\n",
       "Satoshi-Karoshi.com           1020\n",
       "CoinRoyale.com                 953\n",
       "FairProof.com                  729\n",
       "DiceNow.com                    648\n",
       "DiceCoin.io                    390\n",
       "BitcoinPokerTables.com         293\n",
       "MineField.BitcoinLab.org       279\n",
       "LuckyB.it                        6\n",
       "Name: count, dtype: int64"
      ]
     },
     "execution_count": 93,
     "metadata": {},
     "output_type": "execute_result"
    }
   ],
   "source": [
    "gambling.value_counts('gambling')"
   ]
  },
  {
   "cell_type": "code",
   "execution_count": 96,
   "id": "5d3bf03c-84e2-4c68-aa3a-4dcad2c5458c",
   "metadata": {},
   "outputs": [],
   "source": [
    "dup = gambling[gambling['address'].isin(df['address'])]"
   ]
  },
  {
   "cell_type": "code",
   "execution_count": 97,
   "id": "5bebecf3-2833-4d00-8897-082012a06060",
   "metadata": {},
   "outputs": [
    {
     "name": "stdout",
     "output_type": "stream",
     "text": [
      "<class 'pandas.core.frame.DataFrame'>\n",
      "Index: 790 entries, 0 to 2665536\n",
      "Data columns (total 5 columns):\n",
      " #   Column         Non-Null Count  Dtype \n",
      "---  ------         --------------  ----- \n",
      " 0   add_num        790 non-null    int64 \n",
      " 1   add_type       790 non-null    int64 \n",
      " 2   gambling       790 non-null    object\n",
      " 3   date_first_tx  790 non-null    object\n",
      " 4   address        790 non-null    object\n",
      "dtypes: int64(2), object(3)\n",
      "memory usage: 37.0+ KB\n"
     ]
    }
   ],
   "source": [
    "dup.info()"
   ]
  },
  {
   "cell_type": "code",
   "execution_count": 98,
   "id": "e46dbe11-b216-4d17-a9fc-8937915f4ff3",
   "metadata": {},
   "outputs": [],
   "source": [
    "gambling = gambling.drop(index = dup.index)\n",
    "gambling = gambling.drop(columns = ['add_num', 'add_type', 'date_first_tx', 'gambling'])\n",
    "gambling['label'] = 'gambling'"
   ]
  },
  {
   "cell_type": "code",
   "execution_count": 100,
   "id": "80f40d45-6f9c-4f74-9f07-21a69f6dd9dd",
   "metadata": {},
   "outputs": [],
   "source": [
    "df = pd.concat([df, gambling], ignore_index=True)\n",
    "del gambling"
   ]
  },
  {
   "cell_type": "code",
   "execution_count": 101,
   "id": "2851cb0d-ece3-4bb5-8e6e-fc9e0b312068",
   "metadata": {},
   "outputs": [
    {
     "data": {
      "text/plain": [
       "label\n",
       "services       13510172\n",
       "exchange       10220546\n",
       "gambling        2665669\n",
       "dw_market        347413\n",
       "mixer            225445\n",
       "mining_pool       78721\n",
       "miner              4030\n",
       "Name: count, dtype: int64"
      ]
     },
     "execution_count": 101,
     "metadata": {},
     "output_type": "execute_result"
    }
   ],
   "source": [
    "df.value_counts('label')"
   ]
  },
  {
   "cell_type": "code",
   "execution_count": 103,
   "id": "411d7add-14d9-4b22-a923-cfc3e6dd3d53",
   "metadata": {},
   "outputs": [],
   "source": [
    "df.to_csv('address_merge_tagged.csv')"
   ]
  },
  {
   "cell_type": "code",
   "execution_count": null,
   "id": "651dea8e-f7b3-4618-829c-c79febf06c33",
   "metadata": {},
   "outputs": [],
   "source": [
    "del df\n",
    "gc.collect()"
   ]
  }
 ],
 "metadata": {
  "kernelspec": {
   "display_name": "Python 3 (ipykernel)",
   "language": "python",
   "name": "python3"
  },
  "language_info": {
   "codemirror_mode": {
    "name": "ipython",
    "version": 3
   },
   "file_extension": ".py",
   "mimetype": "text/x-python",
   "name": "python",
   "nbconvert_exporter": "python",
   "pygments_lexer": "ipython3",
   "version": "3.9.13"
  }
 },
 "nbformat": 4,
 "nbformat_minor": 5
}
