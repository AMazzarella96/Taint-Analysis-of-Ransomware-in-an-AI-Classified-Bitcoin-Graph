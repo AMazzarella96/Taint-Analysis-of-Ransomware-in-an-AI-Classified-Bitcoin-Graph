{
 "cells": [
  {
   "cell_type": "code",
   "execution_count": null,
   "id": "52dfaee1-554a-47b9-b043-e364f3b423b9",
   "metadata": {},
   "outputs": [],
   "source": [
    "import pandas as pd\n",
    "import numpy as np\n",
    "import time\n",
    "import os\n",
    "import matplotlib.pyplot as plt\n",
    "from datetime import datetime"
   ]
  },
  {
   "cell_type": "code",
   "execution_count": null,
   "id": "d73b845a-8a31-4f23-bae3-04cf8d1615dc",
   "metadata": {},
   "outputs": [],
   "source": [
    "prefix = '[LABELS]'\n",
    "# Cambia percorso per grafi taggati \n",
    "files = [f for f in os.listdir('data_split/new_dst_labels') if f.startswith(prefix) and f.endswith(\".csv\")]\n"
   ]
  },
  {
   "cell_type": "code",
   "execution_count": null,
   "id": "6fc8f388-13a3-4fc3-a18b-fb2d9eede312",
   "metadata": {},
   "outputs": [],
   "source": [
    "s_dataset_last_timestamps = []\n",
    "s_graph_timestamps = []\n",
    "txs = {}\n",
    "global_timestamps = {}\n",
    "clusters = {}\n",
    "for file in files:\n",
    "    address = file[8:-4]\n",
    "    s_dataset_last_timestamps.append(pd.to_datetime(exp[exp['address']==address].iloc[0]['lastTx'], unit='s').date())\n",
    "    rans = pd.read_csv(f\"data_split/{file[8:]}\")\n",
    "    record = rans[rans['seed']==address]\n",
    "    s_graph_timestamps.append(pd.to_datetime(record.iloc[len(record)-1]['timestamp']).date())\n",
    "\n",
    "    cluster = str(int(exp[exp['address']==address].iloc[0]['cluster']))\n",
    "    if cluster not in clusters:\n",
    "        clusters[cluster] = 1\n",
    "    else:\n",
    "        clusters[cluster] += 1\n",
    "    \n",
    "    for index, row in rans.iterrows():\n",
    "        if rans.loc[index]['txid'] not in txs:\n",
    "            txs[rans.loc[index]['txid']] = 1\n",
    "            year = (int(rans.loc[index]['timestamp'][0:4]))\n",
    "            if year not in global_timestamps:\n",
    "                global_timestamps[year] = 1\n",
    "            else:\n",
    "                global_timestamps[year] += 1\n"
   ]
  },
  {
   "cell_type": "code",
   "execution_count": null,
   "id": "35b7e916-8f29-4e41-84e7-fa7f74095e2c",
   "metadata": {},
   "outputs": [],
   "source": [
    "years = list(global_timestamps.keys())\n",
    "instances = list(global_timestamps.values())\n",
    "\n",
    "plt.figure(figsize=(10, 5))\n",
    "plt.barh(years, instances, color='purple', alpha=0.8)\n",
    "\n",
    "# Labels and Title\n",
    "plt.xlabel('No. of Transactions')\n",
    "plt.ylabel('Year')\n",
    "plt.title('Transactions\\' Distribution Per Year')\n",
    "plt.xticks(rotation=45)\n",
    "plt.grid(axis='y', linestyle='--', alpha=0.7)\n",
    "plt.savefig('total_years.pdf', format='pdf', bbox_inches='tight', dpi=1000)\n",
    "# Show Plot\n",
    "plt.show()"
   ]
  },
  {
   "cell_type": "code",
   "execution_count": null,
   "id": "d2d5a224-df06-4bb7-a972-987411274dd9",
   "metadata": {},
   "outputs": [],
   "source": [
    "import matplotlib.dates as mdates\n",
    "plt.figure(figsize=(10, 8))\n",
    "num_graphs = 107\n",
    "plt.plot(range(1, num_graphs + 1), s_dataset_last_timestamps, label='Dataset\\'s Last Tx', marker='s', color = 'orange')\n",
    "plt.plot(range(1, num_graphs + 1), s_graph_timestamps, label='Scraping\\' Last Tx ', marker='o', linestyle='dashed', color = 'purple')\n",
    "\n",
    "plt.xlabel('Graph Index')\n",
    "plt.ylabel('Last Transaction')\n",
    "plt.title('Transaction Activity')\n",
    "plt.legend()\n",
    "plt.grid(True)\n",
    "plt.yticks(rotation=45)\n",
    "#plt.gca().yaxis.set_major_locator(mdates.DayLocator(interval=32))  \n",
    "#plt.gca().yaxis.set_major_formatter(mdates.DateFormatter(\"%Y-%m\")) \n",
    "\n",
    "plt.savefig('seed_activity.png', format='png', dpi=1000)\n",
    "\n",
    "plt.show()"
   ]
  },
  {
   "cell_type": "code",
   "execution_count": null,
   "id": "fd1b9a6c-db15-45d7-91b5-9cc7519b2f1c",
   "metadata": {},
   "outputs": [],
   "source": [
    "from collections import defaultdict\n",
    "\n",
    "families = defaultdict(dict)\n",
    "for f in files:\n",
    "    row = exp[exp['address']==f[8:-4]]\n",
    "    family = row.iloc[0]['family']\n",
    "    cluster = str(int(row.iloc[0]['cluster']))\n",
    "    if family not in families:\n",
    "        #families[family] = 1\n",
    "        families[family][cluster] = 1\n",
    "    else:\n",
    "        #families[family] += 1\n",
    "        if cluster not in families[family]:\n",
    "            families[family][cluster] = 1\n",
    "        else:\n",
    "            families[family][cluster] += 1"
   ]
  },
  {
   "cell_type": "code",
   "execution_count": null,
   "id": "93dd223e-bf7a-4e5b-aa59-d0bf6471c0b7",
   "metadata": {},
   "outputs": [],
   "source": [
    "clst = list(clusters.keys())\n",
    "instances = list(clusters.values())\n",
    "\n",
    "plt.figure(figsize=(9, 5))\n",
    "plt.bar(clst, instances, color='blue', alpha=0.8)\n",
    "\n",
    "# Labels and Title\n",
    "plt.xlabel('Cluster ID')\n",
    "plt.ylabel('Number of Instances')\n",
    "plt.title('Address Cluster Distribution')\n",
    "plt.xticks(rotation=45)\n",
    "plt.grid(axis='y', linestyle='--', alpha=0.7)\n",
    "plt.savefig('clusters.pdf', format='pdf', bbox_inches='tight', dpi=1000)\n",
    "# Show Plot\n",
    "plt.show()"
   ]
  },
  {
   "cell_type": "code",
   "execution_count": null,
   "id": "4c563dc2-bd5b-4c2a-b90d-069bceea8d4f",
   "metadata": {},
   "outputs": [],
   "source": [
    "ransomware = list(families.keys())\n",
    "instances = list(families.values())\n",
    "\n",
    "plt.figure(figsize=(9, 5))\n",
    "plt.bar(ransomware, instances, color='red', alpha=0.7)\n",
    "\n",
    "# Labels and Title\n",
    "plt.xlabel('Ransomware Family')\n",
    "plt.ylabel('Number of Instances')\n",
    "plt.title('Ransomware Family Distribution')\n",
    "plt.xticks(rotation=45)\n",
    "plt.grid(axis='y', linestyle='--', alpha=0.7)\n",
    "#plt.savefig('families.png', format='png', bbox_inches='tight', dpi=1000)\n",
    "# Show Plot\n",
    "plt.show()"
   ]
  }
 ],
 "metadata": {
  "kernelspec": {
   "display_name": "Python 3 (ipykernel)",
   "language": "python",
   "name": "python3"
  },
  "language_info": {
   "codemirror_mode": {
    "name": "ipython",
    "version": 3
   },
   "file_extension": ".py",
   "mimetype": "text/x-python",
   "name": "python",
   "nbconvert_exporter": "python",
   "pygments_lexer": "ipython3",
   "version": "3.9.13"
  }
 },
 "nbformat": 4,
 "nbformat_minor": 5
}
